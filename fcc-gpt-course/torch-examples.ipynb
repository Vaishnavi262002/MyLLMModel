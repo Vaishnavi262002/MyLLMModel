{
 "cells": [
  {
   "cell_type": "code",
   "execution_count": 3,
   "id": "b43ef710-39a8-4645-aacd-fbdf1027c8d0",
   "metadata": {},
   "outputs": [
    {
     "name": "stdout",
     "output_type": "stream",
     "text": [
      "cpu\n"
     ]
    }
   ],
   "source": [
    "import torch\n",
    "import numpy as np\n",
    "import time\n",
    "device='cuda' if torch.cuda.is_available() else 'cpu'\n",
    "print(device)"
   ]
  },
  {
   "cell_type": "code",
   "execution_count": 7,
   "id": "ce8eca56-4874-40c6-9cd9-ec91b3d41793",
   "metadata": {},
   "outputs": [
    {
     "name": "stdout",
     "output_type": "stream",
     "text": [
      "0.00000000\n",
      "CPU times: total: 0 ns\n",
      "Wall time: 0 ns\n"
     ]
    }
   ],
   "source": [
    "%%time \n",
    "start_time=time.time()\n",
    "#matrix operations here\n",
    "zeros=torch.zeros(1,1)\n",
    "end_time=time.time()\n",
    "\n",
    "elapsed_time=end_time-start_time\n",
    "print(f\"{elapsed_time:.8f}\")"
   ]
  },
  {
   "cell_type": "code",
   "execution_count": 15,
   "id": "68e1aacc-5fef-4375-bf41-7a5023378fa8",
   "metadata": {},
   "outputs": [
    {
     "name": "stdout",
     "output_type": "stream",
     "text": [
      "tensor([1, 0, 1, 0, 1, 1, 0, 1, 1, 1])\n"
     ]
    }
   ],
   "source": [
    "#define the probability tensor\n",
    "probabilities=torch.tensor([0.1,0.9])\n",
    "#10% or 0.1 -> 0, 90% or 0.9 ->1. each probability points to the index of the probability in the tensor\n",
    "#Draw 5 samples from the multinomial distribution\n",
    "samples=torch.multinomial(probabilities, num_samples=10, replacement=True)\n",
    "print(samples)\n"
   ]
  },
  {
   "cell_type": "code",
   "execution_count": 16,
   "id": "1ca28a18-a22e-4528-a9d8-a3b748417db2",
   "metadata": {},
   "outputs": [
    {
     "data": {
      "text/plain": [
       "tensor([1, 2, 3, 4, 5])"
      ]
     },
     "execution_count": 16,
     "metadata": {},
     "output_type": "execute_result"
    }
   ],
   "source": [
    "tensor=torch.tensor([1,2,3,4])\n",
    "out=torch.cat(((tensor,torch.tensor([5]))),dim=0)\n",
    "out"
   ]
  },
  {
   "cell_type": "code",
   "execution_count": 17,
   "id": "b6c8c257-9c1c-4685-b52d-f81728bba1f4",
   "metadata": {},
   "outputs": [
    {
     "data": {
      "text/plain": [
       "tensor([[1., 0., 0., 0., 0.],\n",
       "        [1., 1., 0., 0., 0.],\n",
       "        [1., 1., 1., 0., 0.],\n",
       "        [1., 1., 1., 1., 0.],\n",
       "        [1., 1., 1., 1., 1.]])"
      ]
     },
     "execution_count": 17,
     "metadata": {},
     "output_type": "execute_result"
    }
   ],
   "source": [
    "out=torch.tril(torch.ones(5,5))    #tril means triangular lower \n",
    "out"
   ]
  },
  {
   "cell_type": "code",
   "execution_count": 18,
   "id": "eab94f14-4a34-45a4-a2b1-0620c904549c",
   "metadata": {},
   "outputs": [
    {
     "data": {
      "text/plain": [
       "tensor([[1., 1., 1., 1., 1.],\n",
       "        [0., 1., 1., 1., 1.],\n",
       "        [0., 0., 1., 1., 1.],\n",
       "        [0., 0., 0., 1., 1.],\n",
       "        [0., 0., 0., 0., 1.]])"
      ]
     },
     "execution_count": 18,
     "metadata": {},
     "output_type": "execute_result"
    }
   ],
   "source": [
    "out=torch.triu(torch.ones(5,5))  #triu means  triangular upper\n",
    "out"
   ]
  },
  {
   "cell_type": "code",
   "execution_count": 19,
   "id": "289795d6-0416-4400-8cf7-931fed687c59",
   "metadata": {},
   "outputs": [
    {
     "data": {
      "text/plain": [
       "tensor([[0., -inf, -inf, -inf, -inf],\n",
       "        [0., 0., -inf, -inf, -inf],\n",
       "        [0., 0., 0., -inf, -inf],\n",
       "        [0., 0., 0., 0., -inf],\n",
       "        [0., 0., 0., 0., 0.]])"
      ]
     },
     "execution_count": 19,
     "metadata": {},
     "output_type": "execute_result"
    }
   ],
   "source": [
    "out=torch.zeros(5,5).masked_fill(torch.tril(torch.ones(5,5)) ==0,float('-inf'))\n",
    "out"
   ]
  },
  {
   "cell_type": "code",
   "execution_count": 20,
   "id": "0fd00fd7-0bae-470c-a63b-2e374f57e19e",
   "metadata": {},
   "outputs": [
    {
     "data": {
      "text/plain": [
       "tensor([[1., 0., 0., 0., 0.],\n",
       "        [1., 1., 0., 0., 0.],\n",
       "        [1., 1., 1., 0., 0.],\n",
       "        [1., 1., 1., 1., 0.],\n",
       "        [1., 1., 1., 1., 1.]])"
      ]
     },
     "execution_count": 20,
     "metadata": {},
     "output_type": "execute_result"
    }
   ],
   "source": [
    "torch.exp(out)"
   ]
  },
  {
   "cell_type": "code",
   "execution_count": 21,
   "id": "6bf34f99-d7cd-48cb-98f4-a6a678dd2e2a",
   "metadata": {},
   "outputs": [
    {
     "data": {
      "text/plain": [
       "torch.Size([4, 3, 2])"
      ]
     },
     "execution_count": 21,
     "metadata": {},
     "output_type": "execute_result"
    }
   ],
   "source": [
    "input=torch.zeros(2,3,4)\n",
    "out=input.transpose(0,2)\n",
    "out.shape"
   ]
  },
  {
   "cell_type": "code",
   "execution_count": 24,
   "id": "51c134ff-dccb-4a6e-955a-9dfc3dc33ab7",
   "metadata": {},
   "outputs": [
    {
     "data": {
      "text/plain": [
       "tensor([[1, 2, 3],\n",
       "        [4, 5, 6],\n",
       "        [7, 8, 9]])"
      ]
     },
     "execution_count": 24,
     "metadata": {},
     "output_type": "execute_result"
    }
   ],
   "source": [
    "tensor1=torch.tensor([1,2,3])\n",
    "tensor2=torch.tensor([4,5,6])\n",
    "tensor3=torch.tensor([7,8,9])\n",
    "\n",
    "#stack the tensors along a new dimension\n",
    "stacked_tensor=torch.stack([tensor1,tensor2,tensor3])\n",
    "stacked_tensor"
   ]
  },
  {
   "cell_type": "code",
   "execution_count": 28,
   "id": "a674ed97-6c61-478d-afd6-9deac8b26c19",
   "metadata": {},
   "outputs": [
    {
     "name": "stdout",
     "output_type": "stream",
     "text": [
      "tensor([-2.0586e-03, -6.5603e+00, -1.6319e-01], grad_fn=<SqueezeBackward4>)\n"
     ]
    }
   ],
   "source": [
    "import torch.nn as nn\n",
    "sample=torch.tensor([10.,10.,10.])\n",
    "linear=nn.Linear(3,3,bias=False)\n",
    "print(linear(sample))"
   ]
  },
  {
   "cell_type": "code",
   "execution_count": 29,
   "id": "fdfafd97-a4ca-4db6-bbeb-423337eb17d9",
   "metadata": {},
   "outputs": [
    {
     "name": "stdout",
     "output_type": "stream",
     "text": [
      "tensor([0.0900, 0.2447, 0.6652])\n"
     ]
    }
   ],
   "source": [
    "import torch.nn.functional as F \n",
    "\n",
    "#Create a tensor\n",
    "tensor1=torch.tensor([1.0,2.0,3.0])\n",
    "\n",
    "#Apply softmax using torch.nn.functional.softmax()\n",
    "softmax_output=F.softmax(tensor1,dim=0)\n",
    "\n",
    "print(softmax_output)"
   ]
  },
  {
   "cell_type": "code",
   "execution_count": 32,
   "id": "92e9b826-0437-496c-a567-c1a3fad4e837",
   "metadata": {},
   "outputs": [
    {
     "name": "stdout",
     "output_type": "stream",
     "text": [
      "torch.Size([4, 100])\n",
      "tensor([[-1.2857e+00, -1.3637e+00,  3.2604e-01, -2.5048e+00, -4.2852e-01,\n",
      "         -6.6480e-02,  4.2917e-01,  4.8664e-01,  1.2663e-01, -6.7752e-01,\n",
      "          1.1293e+00,  2.2178e+00, -3.4779e-01, -6.6703e-01,  5.9442e-01,\n",
      "          1.7715e-01,  1.4126e+00, -1.4976e+00, -1.1407e+00, -3.7576e-01,\n",
      "          1.5969e+00,  3.3346e-01,  1.1257e+00, -1.1514e-01, -2.2819e-02,\n",
      "          1.3938e+00, -3.2395e-01, -8.3231e-02,  1.4532e+00, -2.9673e-01,\n",
      "          1.5231e+00, -1.5930e+00,  1.8200e+00,  3.9285e-02,  3.4864e-01,\n",
      "          4.3790e-01,  2.2291e+00, -8.2229e-01,  8.7891e-01, -1.5321e+00,\n",
      "         -7.0306e-01, -2.7247e-01, -1.1649e+00,  7.8056e-01, -2.2285e+00,\n",
      "          5.9678e-01,  4.7906e-01, -1.4118e+00,  5.9636e-02,  1.0458e+00,\n",
      "          5.0411e-01, -4.2979e-01, -2.9246e-01, -1.1399e+00,  5.9545e-01,\n",
      "         -1.8473e+00, -6.5427e-01,  5.5846e-01, -1.6102e-01,  7.5331e-01,\n",
      "          1.0832e+00, -8.4140e-02, -9.4856e-01, -1.6367e+00, -9.9617e-01,\n",
      "          6.1323e-01, -8.9756e-02,  6.0183e-01,  3.2532e-01,  2.4732e-01,\n",
      "          8.0302e-01,  4.7419e-01, -5.8989e-01, -7.1704e-01, -9.8254e-01,\n",
      "         -5.2087e-01, -3.7764e-01,  9.9146e-02, -5.0629e-01, -1.8191e-01,\n",
      "          3.0016e-01,  1.4271e-01,  4.1553e-01,  1.1476e+00, -9.9048e-01,\n",
      "          1.1224e+00,  3.9910e-01,  5.3790e-01, -6.2046e-01,  1.1244e+00,\n",
      "         -6.0105e-02,  1.6991e-01,  1.4385e-02,  1.2648e+00, -1.5474e-01,\n",
      "         -2.7004e-01, -9.8685e-01,  9.3186e-01,  1.3185e+00, -5.1255e-01],\n",
      "        [ 9.2916e-01, -3.0877e-01,  9.5630e-01, -6.2867e-01, -1.1040e+00,\n",
      "          7.4827e-01, -7.4264e-01, -1.0281e-01,  4.2287e-01, -2.2541e+00,\n",
      "         -6.4440e-01,  6.3435e-01, -2.0184e-01,  1.8328e+00, -7.1817e-01,\n",
      "         -5.3449e-01,  3.1253e-01,  3.7977e-02, -4.4679e-01, -1.1142e+00,\n",
      "          1.5988e+00, -1.1894e+00, -7.9842e-01, -1.0302e+00, -3.0155e-01,\n",
      "          1.6176e+00, -4.8906e-01, -5.6637e-01, -7.0697e-01,  2.1725e+00,\n",
      "         -2.2839e+00,  7.1481e-01,  2.1094e+00, -1.0626e+00, -6.2347e-01,\n",
      "          1.5326e+00, -2.8570e+00, -2.1462e+00, -1.7737e+00,  7.0650e-01,\n",
      "         -9.6848e-01, -8.8354e-01, -1.0289e+00,  1.5306e+00, -9.5365e-01,\n",
      "          1.1884e+00,  2.0122e+00,  6.4898e-01, -6.6009e-01, -8.0796e-02,\n",
      "          7.7001e-02, -3.8702e+00,  6.4241e-01, -2.3799e+00, -3.9756e-01,\n",
      "          2.5742e-01, -3.0258e-01, -1.3910e-01, -1.0294e+00,  9.1246e-01,\n",
      "         -1.4287e+00, -1.4755e+00,  2.4344e-01,  9.5100e-01, -2.9552e-02,\n",
      "          5.4767e-01, -2.1105e+00,  5.6833e-01, -2.0047e+00, -3.9151e-01,\n",
      "          2.6210e-01, -1.3105e+00,  9.8537e-02,  9.2654e-01, -3.9344e-01,\n",
      "         -6.5187e-01,  7.5129e-01, -2.3702e-01,  1.1842e+00,  1.0571e+00,\n",
      "         -1.5524e+00, -1.3028e+00,  9.8838e-01,  8.7943e-02, -3.5173e-01,\n",
      "          2.0014e+00,  1.7736e+00, -2.9374e-01, -1.3210e+00, -1.7895e+00,\n",
      "         -1.6737e-01,  6.0472e-01,  1.7610e-01,  2.5120e-01,  2.1030e+00,\n",
      "         -5.4442e-01,  4.4254e-01, -1.5637e-01,  9.1099e-01, -8.8283e-01],\n",
      "        [ 7.7231e-01, -8.7849e-01, -3.1320e-01, -1.1456e+00,  5.1082e-01,\n",
      "         -1.3951e+00, -7.4275e-01,  1.0229e-01, -9.0050e-01,  5.0006e-01,\n",
      "          2.9095e-01, -1.3756e+00,  1.4768e+00,  5.8993e-01,  1.3617e+00,\n",
      "         -1.1893e+00, -2.8535e+00,  1.5813e+00,  1.9123e+00, -2.1744e+00,\n",
      "          6.2463e-01,  1.9844e-01, -1.7193e+00, -5.6926e-02, -7.8810e-01,\n",
      "         -2.8660e-01, -3.8922e-01,  5.2668e-01,  4.1106e-01, -4.5514e-01,\n",
      "         -2.0338e+00,  1.1037e+00,  5.2323e-01,  2.0621e-01, -2.9977e-01,\n",
      "         -8.1250e-01,  1.8436e+00, -4.9968e-01,  8.2419e-02, -1.9729e-01,\n",
      "         -8.8158e-01,  1.7610e+00, -7.6756e-01,  6.0482e-01, -2.6769e-01,\n",
      "         -1.8548e-01,  8.9692e-01,  1.9069e-02,  6.8916e-01,  1.5486e+00,\n",
      "         -8.1415e-01,  9.1526e-01, -4.0454e-01,  2.1344e+00,  6.3564e-01,\n",
      "          1.4537e+00,  7.8850e-01, -1.2723e+00,  4.9944e-01, -4.6544e-01,\n",
      "          8.8024e-01,  2.3780e+00,  4.6369e-01,  2.8316e-01,  2.5897e-01,\n",
      "          1.0650e+00,  1.0202e+00, -7.9406e-01,  1.0858e+00,  6.7729e-01,\n",
      "         -1.7496e+00, -1.1818e+00, -2.2169e+00, -7.0130e-01, -4.9389e-01,\n",
      "         -7.3197e-01,  7.0216e-01,  8.5485e-02, -3.4407e-01,  5.0786e-01,\n",
      "         -2.6262e-01,  1.0415e+00, -1.1419e+00, -1.2657e-01,  4.3667e-02,\n",
      "          1.1001e+00,  5.2158e-01, -2.6361e-03, -9.0653e-01, -8.7075e-01,\n",
      "         -1.1765e+00, -6.9774e-01,  7.7729e-01, -8.5797e-02, -9.3224e-01,\n",
      "         -4.2898e-01, -1.1164e+00,  3.8324e-01, -7.9474e-01, -5.1689e-01],\n",
      "        [ 1.1795e+00, -2.3230e-01, -3.0604e-01, -4.8912e-01, -3.3229e-01,\n",
      "          1.2259e+00,  3.0367e-02,  1.8763e+00,  1.1400e-01, -6.8016e-01,\n",
      "         -2.0084e-01,  8.3785e-01, -3.8351e-01, -4.6608e-01,  5.3084e-02,\n",
      "         -1.9712e-01,  1.2172e-01,  1.0439e+00, -9.6888e-01, -1.3302e+00,\n",
      "         -1.2121e+00,  5.5812e-01, -1.1256e-01,  2.9757e-01, -4.6324e-01,\n",
      "          3.4682e-01,  1.4516e-01, -6.1052e-01, -9.6616e-01,  6.7473e-01,\n",
      "         -1.6884e+00,  1.8359e+00, -4.4369e-01,  1.3454e+00,  9.1585e-01,\n",
      "         -8.6371e-01, -1.5063e+00, -1.5493e+00, -8.6692e-01, -4.9261e-01,\n",
      "         -1.0230e+00,  7.7456e-01,  6.7359e-01,  5.2167e-01,  7.8656e-01,\n",
      "          1.4584e+00,  1.1521e+00,  8.2500e-01, -1.3003e-01, -3.8662e-02,\n",
      "          1.1491e+00, -9.8817e-01, -5.8779e-01,  2.1190e-01, -4.6817e-01,\n",
      "         -8.8037e-01,  9.7320e-01, -3.5911e-01,  1.2350e+00, -1.8229e+00,\n",
      "          2.4057e-01,  9.0525e-02, -9.5210e-01,  7.8785e-01,  3.5307e-02,\n",
      "          2.8509e+00, -3.5323e-01, -6.6218e-01, -6.4993e-01, -5.8404e-02,\n",
      "         -7.4603e-01,  1.7824e+00, -1.8503e-01, -7.2481e-01,  1.5950e+00,\n",
      "         -7.8788e-01, -4.0066e-01,  7.2327e-01, -1.6118e-01,  3.1340e-01,\n",
      "          9.6449e-01, -6.8570e-01, -6.6400e-01, -9.2338e-01, -1.9444e-01,\n",
      "          5.2645e-01, -6.8198e-01,  9.6208e-01, -2.3822e-01,  1.1408e-01,\n",
      "         -1.2184e+00, -9.8452e-01, -9.6585e-01,  2.0761e+00,  7.2837e-02,\n",
      "         -1.1555e+00,  2.0392e+00, -5.6477e-01, -1.3398e+00, -5.6548e-01]],\n",
      "       grad_fn=<EmbeddingBackward0>)\n"
     ]
    }
   ],
   "source": [
    "#initialize an embedding layer\n",
    "vocab_size=1000\n",
    "embedding_dim=100\n",
    "embedding=nn.Embedding(vocab_size,embedding_dim)\n",
    "\n",
    "#create some input indices\n",
    "input_indices=torch.LongTensor([1,5,3,2])\n",
    "\n",
    "#apply the embedding layer\n",
    "embedded_output=embedding(input_indices)\n",
    "\n",
    "#The output will be a tensor of shape (4,100) , where 4 is the number of inputs\n",
    "#and 100 is the dimensionality of the embedding vectors\n",
    "print(embedded_output.shape)\n",
    "print(embedded_output)"
   ]
  },
  {
   "cell_type": "code",
   "execution_count": 37,
   "id": "2aec5de2-1aeb-4cda-9049-9966c2e10cd5",
   "metadata": {},
   "outputs": [
    {
     "name": "stdout",
     "output_type": "stream",
     "text": [
      "tensor([[ 27,  30,  33],\n",
      "        [ 61,  68,  75],\n",
      "        [ 95, 106, 117]])\n"
     ]
    }
   ],
   "source": [
    "a=torch.tensor([[1,2],[3,4],[5,6]])\n",
    "b=torch.tensor([[7,8,9],[10,11,12]])\n",
    "# print(a@b)\n",
    "print(torch.matmul(a,b))"
   ]
  },
  {
   "cell_type": "code",
   "execution_count": 38,
   "id": "377678ac-076f-4d12-b832-e2f753e8d8d4",
   "metadata": {},
   "outputs": [
    {
     "name": "stdout",
     "output_type": "stream",
     "text": [
      "tensor([[0., 0., 0.],\n",
      "        [0., 0., 0.],\n",
      "        [0., 0., 0.]])\n"
     ]
    }
   ],
   "source": [
    "int_64=torch.randint(1,(3,2)).float()\n",
    "#type int64\n",
    "float_32=torch.rand(2,3)\n",
    "#type float32\n",
    "result=torch.matmul(int_64,float_32)\n",
    "print(result)"
   ]
  },
  {
   "cell_type": "code",
   "execution_count": null,
   "id": "b0d45c0b-b6a3-43be-951e-67a5d4cf959b",
   "metadata": {},
   "outputs": [],
   "source": []
  },
  {
   "cell_type": "code",
   "execution_count": null,
   "id": "564b1171-8dd2-431b-b9e9-ef22e8ca0a07",
   "metadata": {},
   "outputs": [],
   "source": []
  },
  {
   "cell_type": "code",
   "execution_count": null,
   "id": "d26ccce6-a1a4-4eca-a295-d6bbeca942a1",
   "metadata": {},
   "outputs": [],
   "source": []
  },
  {
   "cell_type": "code",
   "execution_count": null,
   "id": "e04af05b-c8eb-43fb-a559-42861f4ba737",
   "metadata": {},
   "outputs": [],
   "source": []
  },
  {
   "cell_type": "code",
   "execution_count": null,
   "id": "ceb8c8ca-9c28-4400-937c-0c717099ebea",
   "metadata": {},
   "outputs": [],
   "source": []
  },
  {
   "cell_type": "code",
   "execution_count": null,
   "id": "aace6235-fee8-4c47-8425-6fd9d0773074",
   "metadata": {},
   "outputs": [],
   "source": []
  },
  {
   "cell_type": "code",
   "execution_count": 29,
   "id": "cda7ce82-f162-48c3-8fcf-d6e8be5a40e6",
   "metadata": {},
   "outputs": [],
   "source": [
    "# randint=torch.randint(-100,100,(6,))\n",
    "# # randint"
   ]
  },
  {
   "cell_type": "code",
   "execution_count": 30,
   "id": "4513bb00-b550-4a88-b5a2-d270d65c5e79",
   "metadata": {},
   "outputs": [],
   "source": [
    "# tensor=torch.tensor([[0.1,1.2],[2.2,3.1],[4.9,5.2]])\n",
    "# tensor"
   ]
  },
  {
   "cell_type": "code",
   "execution_count": 31,
   "id": "06cd6ced-23e4-4e48-9fc0-d69b9f5c11f5",
   "metadata": {},
   "outputs": [],
   "source": [
    "# zeros=torch.zeros(2,3)\n",
    "# zeros"
   ]
  },
  {
   "cell_type": "code",
   "execution_count": 32,
   "id": "8a27c02a-eef4-4ac3-867e-a26dd3bb5c5f",
   "metadata": {},
   "outputs": [],
   "source": [
    "# ones=torch.ones(3,4)\n",
    "# ones"
   ]
  },
  {
   "cell_type": "code",
   "execution_count": 33,
   "id": "893ab9f8-4763-484a-9e98-21cae51ed4b1",
   "metadata": {},
   "outputs": [],
   "source": [
    "# input=torch.empty(2,3)\n",
    "# input"
   ]
  },
  {
   "cell_type": "code",
   "execution_count": 34,
   "id": "f7cbfe47-00cc-456c-b2ae-7b58eb3beac1",
   "metadata": {},
   "outputs": [],
   "source": [
    "# new=torch.empty(5,8)\n",
    "# new"
   ]
  },
  {
   "cell_type": "code",
   "execution_count": 35,
   "id": "7fc95fbe-05d9-485a-844c-2718c78fc10a",
   "metadata": {},
   "outputs": [],
   "source": [
    "# arange=torch.arange(5)\n",
    "# arange"
   ]
  },
  {
   "cell_type": "code",
   "execution_count": 40,
   "id": "d9e29bf0-8603-46e7-8612-1383ee0c450d",
   "metadata": {},
   "outputs": [],
   "source": [
    "# linspace=torch.linspace(3,10,steps=5)\n",
    "# linspace"
   ]
  },
  {
   "cell_type": "code",
   "execution_count": 37,
   "id": "66ee0c4e-7e73-48a6-bf5b-57a7d186f694",
   "metadata": {},
   "outputs": [],
   "source": [
    "# logspace=torch.logspace(start=10,end=10,steps=5)\n",
    "# logspace"
   ]
  },
  {
   "cell_type": "code",
   "execution_count": 38,
   "id": "c7c51378-8fa5-48e0-ba1e-155c2bb2fa22",
   "metadata": {},
   "outputs": [],
   "source": [
    "# eye=torch.eye(5)\n",
    "# eye"
   ]
  },
  {
   "cell_type": "code",
   "execution_count": 39,
   "id": "4f7ccb2f-48d6-4d07-a34d-5c35496e03c7",
   "metadata": {},
   "outputs": [],
   "source": [
    "# a=torch.empty((2,3),dtype=torch.int64)\n",
    "# empty_like=torch.empty_like(a)\n",
    "# empty_like"
   ]
  },
  {
   "cell_type": "code",
   "execution_count": null,
   "id": "11634c8e-79a1-478c-bbc8-e2d32773d92a",
   "metadata": {},
   "outputs": [],
   "source": []
  },
  {
   "cell_type": "code",
   "execution_count": null,
   "id": "d54a554b-c487-4562-a58f-423372fea76e",
   "metadata": {},
   "outputs": [],
   "source": []
  }
 ],
 "metadata": {
  "kernelspec": {
   "display_name": "cuda-gpt",
   "language": "python",
   "name": "cuda"
  },
  "language_info": {
   "codemirror_mode": {
    "name": "ipython",
    "version": 3
   },
   "file_extension": ".py",
   "mimetype": "text/x-python",
   "name": "python",
   "nbconvert_exporter": "python",
   "pygments_lexer": "ipython3",
   "version": "3.11.5"
  }
 },
 "nbformat": 4,
 "nbformat_minor": 5
}
